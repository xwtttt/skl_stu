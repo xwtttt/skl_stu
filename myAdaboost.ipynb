{
    "cells": [
        {
            "cell_type": "markdown",
            "source": [
                "# 手动实现 AdaBoost 算法\r\n",
                "参考知乎 [手把手教你AdaBoost](https://zhuanlan.zhihu.com/p/27126737)"
            ],
            "metadata": {}
        },
        {
            "cell_type": "code",
            "execution_count": 10,
            "source": [
                "def cal_bagging(x):\r\n",
                "    y = (1 - 1/x) ** x\r\n",
                "    return y\r\n",
                "cal_bagging(4)"
            ],
            "outputs": [
                {
                    "output_type": "execute_result",
                    "data": {
                        "text/plain": [
                            "0.31640625"
                        ]
                    },
                    "metadata": {},
                    "execution_count": 10
                }
            ],
            "metadata": {}
        }
    ],
    "metadata": {
        "orig_nbformat": 4,
        "language_info": {
            "name": "python",
            "version": "3.7.10",
            "mimetype": "text/x-python",
            "codemirror_mode": {
                "name": "ipython",
                "version": 3
            },
            "pygments_lexer": "ipython3",
            "nbconvert_exporter": "python",
            "file_extension": ".py"
        },
        "kernelspec": {
            "name": "python3",
            "display_name": "Python 3.7.10 64-bit ('ml': conda)"
        },
        "interpreter": {
            "hash": "ee39f7c0223046347f52298197025d5fce829c16010e625dbc9a669f34e1d57a"
        }
    },
    "nbformat": 4,
    "nbformat_minor": 2
}