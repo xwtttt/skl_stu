{
    "cells": [
        {
            "cell_type": "code",
            "execution_count": 24,
            "source": [
                "import numpy as np\r\n",
                "import pandas as pd\r\n",
                "import matplotlib.pyplot as plt\r\n",
                "from sklearn.datasets import load_boston\r\n",
                "from sklearn.impute import SimpleImputer\r\n",
                "from sklearn.ensemble import RandomForestRegressor\r\n",
                "from sklearn.model_selection import cross_val_score\r\n",
                "import itertools\r\n",
                "import random"
            ],
            "outputs": [],
            "metadata": {}
        },
        {
            "cell_type": "code",
            "execution_count": 25,
            "source": [
                "# 导入波士顿房价数据集\r\n",
                "dataset = load_boston()\r\n",
                "dataset.data.shape"
            ],
            "outputs": [
                {
                    "output_type": "execute_result",
                    "data": {
                        "text/plain": [
                            "(506, 13)"
                        ]
                    },
                    "metadata": {},
                    "execution_count": 25
                }
            ],
            "metadata": {}
        },
        {
            "cell_type": "code",
            "execution_count": 6,
            "source": [
                "# 获取特征和标签\r\n",
                "X_full, y_full = dataset.data, dataset.target\r\n",
                "n_samples = X_full.shape[0]\r\n",
                "n_features = X_full.shape[1]"
            ],
            "outputs": [],
            "metadata": {}
        },
        {
            "cell_type": "code",
            "execution_count": 45,
            "source": [
                "def creat_loss_num(data, missing_rates):\r\n",
                "    n_samples = data.shape[0]  #行的个数\r\n",
                "    n_features = data.shape[1]  #列的个数\r\n",
                "    n_missing_samples = int(np.floor(n_samples * n_features * missing_rates))  #一共需要缺失多少数据\r\n",
                "    print(\"一共需要丢失：\", n_missing_samples)\r\n",
                "    missing_samples = random.sample(list(itertools.product(range(0, n_samples), range(0, n_features))), n_missing_samples)\r\n",
                "    data_missing = data.copy()\r\n",
                "    for i in missing_samples:\r\n",
                "        data_missing[i] = np.nan\r\n",
                "    data_missing = pd.DataFrame(data_missing)\r\n",
                "    return data_missing"
            ],
            "outputs": [],
            "metadata": {}
        },
        {
            "cell_type": "code",
            "execution_count": 48,
            "source": [
                "X_missing = creat_loss_num(dataset.data, 0.7)\r\n",
                "print(\"一共有缺失值：\",X_missing.isnull().sum().values.sum())"
            ],
            "outputs": [
                {
                    "output_type": "stream",
                    "name": "stdout",
                    "text": [
                        "一共需要丢失： 4604\n",
                        "一共有缺失值： 4604\n"
                    ]
                }
            ],
            "metadata": {}
        },
        {
            "cell_type": "markdown",
            "source": [
                "制造随机数思路：\r\n",
                "1. 获取希望缺失的数据比例并计算缺失数据量\r\n",
                "2. 生成数组记录缺失值的位置（可以生成一个二维数组，一列保存需要设置缺失的行，一列保存需要设置缺失的列）\r\n",
                "3. 根据索引设置缺失值"
            ],
            "metadata": {}
        },
        {
            "cell_type": "code",
            "execution_count": 49,
            "source": [
                "from sklearn.impute import SimpleImputer\r\n",
                "imp_mean = SimpleImputer(missing_values=np.nan, strategy='mean')  # 均值填充\r\n",
                "X_missing_mean = imp_mean.fit_transform(X_missing)\r\n",
                "pd.DataFrame(X_missing_mean).isnull().sum()  #观察是否还有缺失值"
            ],
            "outputs": [
                {
                    "output_type": "execute_result",
                    "data": {
                        "text/plain": [
                            "0     0\n",
                            "1     0\n",
                            "2     0\n",
                            "3     0\n",
                            "4     0\n",
                            "5     0\n",
                            "6     0\n",
                            "7     0\n",
                            "8     0\n",
                            "9     0\n",
                            "10    0\n",
                            "11    0\n",
                            "12    0\n",
                            "dtype: int64"
                        ]
                    },
                    "metadata": {},
                    "execution_count": 49
                }
            ],
            "metadata": {}
        },
        {
            "cell_type": "code",
            "execution_count": null,
            "source": [
                "X_missing_reg = X_missing.copy()"
            ],
            "outputs": [],
            "metadata": {}
        },
        {
            "cell_type": "code",
            "execution_count": null,
            "source": [
                "# 找出数据集中，缺失值从小到大排列的特征们的排序,axis=0 压缩行\r\n",
                "# np.sort 把内容从小到大进行排列\r\n",
                "# np.argsort  返回从小到大排序的顺序所对应的索引\r\n",
                "sortindex = np.argsort(X_missing_reg.isnull().sum(axis=0)).values\r\n",
                "sortindex"
            ],
            "outputs": [],
            "metadata": {}
        },
        {
            "cell_type": "code",
            "execution_count": null,
            "source": [
                "# 使用随机森林填补缺失值\r\n",
                "# 构建我们的新特征矩阵（没有被选中的特征+原始标签）和新标签（被选中去填充的特征）\r\n",
                "df = X_missing_reg"
            ],
            "outputs": [],
            "metadata": {}
        }
    ],
    "metadata": {
        "orig_nbformat": 4,
        "language_info": {
            "name": "python",
            "version": "3.7.10",
            "mimetype": "text/x-python",
            "codemirror_mode": {
                "name": "ipython",
                "version": 3
            },
            "pygments_lexer": "ipython3",
            "nbconvert_exporter": "python",
            "file_extension": ".py"
        },
        "kernelspec": {
            "name": "python3",
            "display_name": "Python 3.7.10 64-bit ('ml': conda)"
        },
        "interpreter": {
            "hash": "ee39f7c0223046347f52298197025d5fce829c16010e625dbc9a669f34e1d57a"
        }
    },
    "nbformat": 4,
    "nbformat_minor": 2
}