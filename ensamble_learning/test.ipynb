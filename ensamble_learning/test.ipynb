{
    "cells": [
        {
            "cell_type": "code",
            "execution_count": null,
            "source": [
                "import pandas as pd\r\n",
                "import numpy as np\r\n",
                "import itertools\r\n",
                "import random"
            ],
            "outputs": [],
            "metadata": {}
        },
        {
            "cell_type": "code",
            "execution_count": null,
            "source": [
                "def creat_loss_num(data, missing_rates):\r\n",
                "    n_samples = data.shape[0]  #行的个数\r\n",
                "    n_features = data.shape[1]  #列的个数\r\n",
                "    n_missing_samples = int(np.floor(n_samples * n_features * missing_rates))  #一共需要缺失多少数据\r\n",
                "    print(\"n_missing_samples\", n_missing_samples)\r\n",
                "    # total_local =   #所有的坐标\r\n",
                "    missing_samples = random.sample(list(itertools.product(range(0, n_samples), range(0, n_features))), n_missing_samples)\r\n",
                "    data_missing = data.copy()\r\n",
                "    for i in missing_samples:\r\n",
                "        data_missing[i] = np.nan\r\n",
                "    print(\"data_missing_shape\", data_missing.shape)\r\n",
                "    data_missing = pd.DataFrame(data_missing)\r\n",
                "    return data_missing"
            ],
            "outputs": [],
            "metadata": {}
        },
        {
            "cell_type": "code",
            "execution_count": null,
            "source": [
                "arr = [[1,2,3,4],[5,6,7,8]]\r\n",
                "data = np.array(arr, dtype=np.float64)"
            ],
            "outputs": [],
            "metadata": {}
        },
        {
            "cell_type": "code",
            "execution_count": null,
            "source": [
                "missing_data = creat_loss_num(data, 0.5)\r\n",
                "missing_data"
            ],
            "outputs": [],
            "metadata": {}
        },
        {
            "cell_type": "code",
            "execution_count": null,
            "source": [
                "arr = [[1,2,3,4],[5,6,7,8]]\r\n",
                "data = np.array(arr, dtype=np.float64)\r\n",
                "n_samples = data.shape[0]\r\n",
                "n_features = data.shape[1]\r\n",
                "total_local = list(itertools.product(range(0, n_samples), range(0, n_features)))\r\n",
                "samples = random.sample(total_local, 4)\r\n",
                "for i in samples:\r\n",
                "    data[i] = np.nan\r\n",
                "print(type(data))\r\n",
                "data"
            ],
            "outputs": [],
            "metadata": {}
        },
        {
            "cell_type": "code",
            "execution_count": null,
            "source": [],
            "outputs": [],
            "metadata": {}
        }
    ],
    "metadata": {
        "orig_nbformat": 4,
        "language_info": {
            "name": "python",
            "version": "3.7.10",
            "mimetype": "text/x-python",
            "codemirror_mode": {
                "name": "ipython",
                "version": 3
            },
            "pygments_lexer": "ipython3",
            "nbconvert_exporter": "python",
            "file_extension": ".py"
        },
        "kernelspec": {
            "name": "python3",
            "display_name": "Python 3.7.10 64-bit ('ml': conda)"
        },
        "interpreter": {
            "hash": "ee39f7c0223046347f52298197025d5fce829c16010e625dbc9a669f34e1d57a"
        }
    },
    "nbformat": 4,
    "nbformat_minor": 2
}