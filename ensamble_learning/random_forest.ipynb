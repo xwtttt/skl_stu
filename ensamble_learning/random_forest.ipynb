{
    "cells": [
        {
            "cell_type": "code",
            "execution_count": null,
            "source": [
                "from sklearn.ensemble import RandomForestClassifier\r\n",
                "from sklearn.tree import DecisionTreeClassifier\r\n",
                "import matplotlib.pyplot as plt\r\n",
                "from sklearn.datasets import load_wine"
            ],
            "outputs": [],
            "metadata": {}
        },
        {
            "cell_type": "code",
            "execution_count": null,
            "source": [
                "wine = load_wine()"
            ],
            "outputs": [],
            "metadata": {}
        },
        {
            "cell_type": "code",
            "execution_count": null,
            "source": [
                "# 首先导入模型\r\n",
                "from sklearn.model_selection import train_test_split\r\n",
                "Xtrain, Xtest, ytrain, ytest = train_test_split(wine.data, wine.target, test_size=0.3)\r\n",
                "# 训练三个步骤：\r\n",
                "# 实例化模型\r\n",
                "clf = DecisionTreeClassifier(random_state=42)\r\n",
                "rfc = RandomForestClassifier(random_state=42)\r\n",
                "# 训练集带入实例化后的模型进行训练\r\n",
                "clf.fit(Xtrain, ytrain)\r\n",
                "rfc.fit(Xtrain, ytrain)\r\n",
                "# 使用其他接口将测试集导入训练好的模型，去获取我们希望的结果\r\n",
                "## score 为模型的精确度\r\n",
                "score_c = clf.score(Xtest, ytest)\r\n",
                "score_r = rfc.score(Xtest, ytest)\r\n",
                "\r\n",
                "print(\"Single Tree: \", score_c)\r\n",
                "print(\"Random Forest: \", score_r)"
            ],
            "outputs": [],
            "metadata": {}
        },
        {
            "cell_type": "code",
            "execution_count": null,
            "source": [
                "# 交叉验证：cross_val_score\r\n",
                "from sklearn.model_selection import cross_val_score\r\n",
                "\r\n",
                "clf = DecisionTreeClassifier(random_state=0)\r\n",
                "clf_s = cross_val_score(clf, wine.data, wine.target, cv=10)\r\n",
                "\r\n",
                "rfc = RandomForestClassifier(random_state=0)\r\n",
                "rfc_s = cross_val_score(rfc, wine.data, wine.target, cv=10)\r\n",
                "\r\n",
                "plt.plot(range(1,11), rfc_s, label=\"RandomForest\")\r\n",
                "plt.plot(range(1,11), clf_s, label=\"DecisionTreeClassfier\")\r\n",
                "plt.legend()\r\n",
                "plt.show()"
            ],
            "outputs": [],
            "metadata": {}
        },
        {
            "cell_type": "code",
            "execution_count": null,
            "source": [
                "# 观察随机森林中不同决策树的结果\r\n",
                "superpa = []\r\n",
                "for i in range(200):\r\n",
                "    rfc = RandomForestClassifier(n_estimators=i+1, n_jobs=-1)\r\n",
                "    rfc_s = cross_val_score(rfc, wine.data, wine.target, cv=10).mean()\r\n",
                "    superpa.append(rfc_s)"
            ],
            "outputs": [],
            "metadata": {}
        },
        {
            "cell_type": "code",
            "execution_count": null,
            "source": [
                "print(\"在拥有\", superpa.index(max(superpa)), \"棵决策树的时候预测准确率最高，预测准确率为\", max(superpa))"
            ],
            "outputs": [],
            "metadata": {}
        },
        {
            "cell_type": "code",
            "execution_count": null,
            "source": [
                "plt.figure(figsize=[20,5])\r\n",
                "plt.plot(range(1, 201), superpa, label=\"RandomForest\")\r\n",
                "plt.legend()\r\n",
                "plt.show()"
            ],
            "outputs": [],
            "metadata": {}
        },
        {
            "cell_type": "code",
            "execution_count": null,
            "source": [
                "# 观察决策树和随机森林的结果\r\n",
                "rfc_l = []\r\n",
                "clf_l = []\r\n",
                "for i in range(50):\r\n",
                "    clf = DecisionTreeClassifier()\r\n",
                "    clf_s = cross_val_score(clf, wine.data, wine.target, cv=10).mean()\r\n",
                "    clf_l.append(clf_s)\r\n",
                "    rfc = RandomForestClassifier(n_jobs=4)\r\n",
                "    rfc_s = cross_val_score(rfc, wine.data, wine.target, cv=10).mean()\r\n",
                "    rfc_l.append(rfc_s)\r\n",
                "plt.plot(range(1,51), rfc_l, label=\"RandomForest\")\r\n",
                "plt.plot(range(1,51), clf_l, label=\"DecisionTree\")\r\n",
                "plt.legend()\r\n",
                "plt.show()"
            ],
            "outputs": [],
            "metadata": {}
        },
        {
            "cell_type": "code",
            "execution_count": null,
            "source": [],
            "outputs": [],
            "metadata": {}
        }
    ],
    "metadata": {
        "orig_nbformat": 4,
        "language_info": {
            "name": "python",
            "version": "3.7.10",
            "mimetype": "text/x-python",
            "codemirror_mode": {
                "name": "ipython",
                "version": 3
            },
            "pygments_lexer": "ipython3",
            "nbconvert_exporter": "python",
            "file_extension": ".py"
        },
        "kernelspec": {
            "name": "python3",
            "display_name": "Python 3.7.10 64-bit ('ml': conda)"
        },
        "interpreter": {
            "hash": "ee39f7c0223046347f52298197025d5fce829c16010e625dbc9a669f34e1d57a"
        }
    },
    "nbformat": 4,
    "nbformat_minor": 2
}